{
 "cells": [
  {
   "cell_type": "code",
   "execution_count": 1,
   "metadata": {},
   "outputs": [],
   "source": [
    "from dotenv import load_dotenv\n",
    "import os\n",
    "import gradio as gr\n",
    "from swarmauri.standard.llms.concrete.GroqModel import GroqModel\n",
    "from swarmauri.standard.messages.concrete.SystemMessage import SystemMessage\n",
    "from swarmauri.standard.agents.concrete.SimpleConversationAgent import SimpleConversationAgent\n",
    "from swarmauri.standard.conversations.concrete.MaxSystemContextConversation import MaxSystemContextConversation"
   ]
  },
  {
   "cell_type": "code",
   "execution_count": 8,
   "metadata": {},
   "outputs": [],
   "source": [
    "load_dotenv()\n",
    "\n",
    "API_KEY = os.getenv(\"GROQ_API_KEY\")\n",
    "\n",
    "llm = GroqModel(api_key=API_KEY)\n",
    "allowed_models = llm.allowed_models\n",
    "\n",
    "conversation = MaxSystemContextConversation()"
   ]
  },
  {
   "cell_type": "code",
   "execution_count": null,
   "metadata": {},
   "outputs": [],
   "source": [
    "def load_model(selected_model):\n",
    "    return GroqModel(api_key=API_KEY, name=selected_model)\n",
    "\n",
    "def converse(input_text, history, system_context, model_name):\n",
    "    print(f\"system_context: {system_context}\")\n",
    "    print(f\"Selected model: {model_name}\")\n",
    "    \n",
    "    llm = load_model(model_name)\n",
    "    \n",
    "    agent = SimpleConversationAgent(llm=llm, conversation=conversation)\n",
    "    agent.conversation.system_context = SystemMessage(content=system_context)\n",
    "    \n",
    "    input_text = str(input_text)\n",
    "    print(conversation.history)\n",
    "    result = agent.exec(input_text)\n",
    "    print(result, type(result))\n",
    "    \n",
    "    return str(result)\n",
    "\n",
    "\n",
    "demo = gr.ChatInterface(\n",
    "    fn=converse,\n",
    "    additional_inputs=[\n",
    "        gr.Textbox(label='System Context'),\n",
    "        gr.Dropdown(label='Model Name', choices=allowed_models, value=allowed_models[0])\n",
    "    ],\n",
    "    title='A sytem context conversation',\n",
    "    description='Interact with the agent using a selected model and system context'\n",
    ")\n",
    "\n",
    "if __name__ == \"__main__\":\n",
    "    demo.launch()"
   ]
  },
  {
   "cell_type": "code",
   "execution_count": null,
   "metadata": {},
   "outputs": [],
   "source": []
  }
 ],
 "metadata": {
  "kernelspec": {
   "display_name": "swarmauri-0.4.1",
   "language": "python",
   "name": "python3"
  },
  "language_info": {
   "codemirror_mode": {
    "name": "ipython",
    "version": 3
   },
   "file_extension": ".py",
   "mimetype": "text/x-python",
   "name": "python",
   "nbconvert_exporter": "python",
   "pygments_lexer": "ipython3",
   "version": "3.10.14"
  }
 },
 "nbformat": 4,
 "nbformat_minor": 2
}
