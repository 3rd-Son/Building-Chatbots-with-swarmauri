{
 "cells": [
  {
   "cell_type": "code",
   "execution_count": 1,
   "metadata": {},
   "outputs": [],
   "source": [
    "from dotenv import load_dotenv\n",
    "import os\n",
    "import gradio as gr\n",
    "from swarmauri.standard.llms.concrete.GroqModel import GroqModel\n",
    "from swarmauri.standard.messages.concrete.SystemMessage import SystemMessage\n",
    "from swarmauri.standard.agents.concrete.SimpleConversationAgent import SimpleConversationAgent\n",
    "from swarmauri.standard.conversations.concrete.MaxSystemContextConversation import MaxSystemContextConversation"
   ]
  },
  {
   "cell_type": "code",
   "execution_count": 7,
   "metadata": {},
   "outputs": [],
   "source": [
    "load_dotenv()\n",
    "\n",
    "API_KEY = os.getenv(\"GROQ_API_KEY\")\n",
    "\n",
    "llm = GroqModel(api_key=API_KEY)\n",
    "allowed_models = llm.allowed_models\n",
    "\n",
    "conversation = MaxSystemContextConversation()"
   ]
  },
  {
   "cell_type": "code",
   "execution_count": 4,
   "metadata": {},
   "outputs": [
    {
     "name": "stdout",
     "output_type": "stream",
     "text": [
      "Running on local URL:  http://127.0.0.1:7861\n",
      "\n",
      "To create a public link, set `share=True` in `launch()`.\n"
     ]
    },
    {
     "data": {
      "text/html": [
       "<div><iframe src=\"http://127.0.0.1:7861/\" width=\"100%\" height=\"500\" allow=\"autoplay; camera; microphone; clipboard-read; clipboard-write;\" frameborder=\"0\" allowfullscreen></iframe></div>"
      ],
      "text/plain": [
       "<IPython.core.display.HTML object>"
      ]
     },
     "metadata": {},
     "output_type": "display_data"
    },
    {
     "name": "stdout",
     "output_type": "stream",
     "text": [
      "system_context: \n",
      "Selected model: llama3-8b-8192\n",
      "[SystemMessage(name=None, id='ed4d985a-4fcb-49f8-a405-db45fdfbea9a', members=[], owner=None, host=None, resource='Message', version='0.1.0', type='SystemMessage', content='', role='system'), HumanMessage(name=None, id='04ae9616-01d4-41dd-84d2-a16056fc8ebc', members=[], owner=None, host=None, resource='Message', version='0.1.0', type='HumanMessage', content='write a python bootcamp road map', role='user'), AgentMessage(name=None, id='f0a7da2f-99da-4aaa-b6a2-ca1cde395b1a', members=[], owner=None, host=None, resource='Message', version='0.1.0', type='AgentMessage', content=' debugging frameworks (unittest, pytest)\\n* Day 21: Practice coding exercises and projects\\n\\n**Week 7-8: Data Analysis and Visualization**\\n\\n* Day 22-23: Introduction to Pandas and NumPy for data manipulation and analysis\\n* Day 24-25: Data visualization with Matplotlib and Seaborn\\n* Day 26-27: Data manipulation and analysis with Pandas and NumPy\\n* Day 28: Practice coding exercises and projects\\n\\n**Week 9-10: Machine Learning and Web Development**\\n\\n* Day 29-30: Introduction to machine learning with Scikit-learn and TensorFlow\\n* Day 31-32: Building a simple web application with Flask or Django\\n* Day 33-34: Introduction to web development frameworks and libraries (requests, BeautifulSoup)\\n* Day 35: Practice coding exercises and projects\\n\\n**Week 11-12: Advanced Topics and Project Development**\\n\\n* Day 36-37: Advanced topics in Python (async/await, generators, and decorators)\\n* Day 38-39: Building a real-world project (e.g., a web scraper, a game, or a chatbot)\\n* Day 40-41: Debugging and testing a real-world project\\n* Day ', role='assistant', usage=None)]\n"
     ]
    },
    {
     "name": "stderr",
     "output_type": "stream",
     "text": [
      "Traceback (most recent call last):\n",
      "  File \"/Users/appleplay/anaconda3/envs/swarmauri-0.4.1/lib/python3.10/site-packages/gradio/queueing.py\", line 536, in process_events\n",
      "    response = await route_utils.call_process_api(\n",
      "  File \"/Users/appleplay/anaconda3/envs/swarmauri-0.4.1/lib/python3.10/site-packages/gradio/route_utils.py\", line 321, in call_process_api\n",
      "    output = await app.get_blocks().process_api(\n",
      "  File \"/Users/appleplay/anaconda3/envs/swarmauri-0.4.1/lib/python3.10/site-packages/gradio/blocks.py\", line 1935, in process_api\n",
      "    result = await self.call_function(\n",
      "  File \"/Users/appleplay/anaconda3/envs/swarmauri-0.4.1/lib/python3.10/site-packages/gradio/blocks.py\", line 1518, in call_function\n",
      "    prediction = await fn(*processed_input)\n",
      "  File \"/Users/appleplay/anaconda3/envs/swarmauri-0.4.1/lib/python3.10/site-packages/gradio/utils.py\", line 793, in async_wrapper\n",
      "    response = await f(*args, **kwargs)\n",
      "  File \"/Users/appleplay/anaconda3/envs/swarmauri-0.4.1/lib/python3.10/site-packages/gradio/chat_interface.py\", line 623, in _submit_fn\n",
      "    response = await anyio.to_thread.run_sync(\n",
      "  File \"/Users/appleplay/anaconda3/envs/swarmauri-0.4.1/lib/python3.10/site-packages/anyio/to_thread.py\", line 56, in run_sync\n",
      "    return await get_async_backend().run_sync_in_worker_thread(\n",
      "  File \"/Users/appleplay/anaconda3/envs/swarmauri-0.4.1/lib/python3.10/site-packages/anyio/_backends/_asyncio.py\", line 2177, in run_sync_in_worker_thread\n",
      "    return await future\n",
      "  File \"/Users/appleplay/anaconda3/envs/swarmauri-0.4.1/lib/python3.10/site-packages/anyio/_backends/_asyncio.py\", line 859, in run\n",
      "    result = context.run(func, *args)\n",
      "  File \"/var/folders/8j/5mg1hqbx0rxgbv5q60g_dhhc0000gn/T/ipykernel_1763/488124983.py\", line 16, in converse\n",
      "    print(result. type(result))\n",
      "AttributeError: 'str' object has no attribute 'type'\n"
     ]
    },
    {
     "name": "stdout",
     "output_type": "stream",
     "text": [
      "system_context: a virtual assistant for a student in the university\n",
      "Selected model: llama3-8b-8192\n",
      "[SystemMessage(name=None, id='e7422c94-7526-4eb9-9a5b-8fb032027ed3', members=[], owner=None, host=None, resource='Message', version='0.1.0', type='SystemMessage', content='a virtual assistant for a student in the university', role='system'), HumanMessage(name=None, id='04ae9616-01d4-41dd-84d2-a16056fc8ebc', members=[], owner=None, host=None, resource='Message', version='0.1.0', type='HumanMessage', content='write a python bootcamp road map', role='user'), AgentMessage(name=None, id='f0a7da2f-99da-4aaa-b6a2-ca1cde395b1a', members=[], owner=None, host=None, resource='Message', version='0.1.0', type='AgentMessage', content=' debugging frameworks (unittest, pytest)\\n* Day 21: Practice coding exercises and projects\\n\\n**Week 7-8: Data Analysis and Visualization**\\n\\n* Day 22-23: Introduction to Pandas and NumPy for data manipulation and analysis\\n* Day 24-25: Data visualization with Matplotlib and Seaborn\\n* Day 26-27: Data manipulation and analysis with Pandas and NumPy\\n* Day 28: Practice coding exercises and projects\\n\\n**Week 9-10: Machine Learning and Web Development**\\n\\n* Day 29-30: Introduction to machine learning with Scikit-learn and TensorFlow\\n* Day 31-32: Building a simple web application with Flask or Django\\n* Day 33-34: Introduction to web development frameworks and libraries (requests, BeautifulSoup)\\n* Day 35: Practice coding exercises and projects\\n\\n**Week 11-12: Advanced Topics and Project Development**\\n\\n* Day 36-37: Advanced topics in Python (async/await, generators, and decorators)\\n* Day 38-39: Building a real-world project (e.g., a web scraper, a game, or a chatbot)\\n* Day 40-41: Debugging and testing a real-world project\\n* Day ', role='assistant', usage=None)]\n"
     ]
    },
    {
     "name": "stderr",
     "output_type": "stream",
     "text": [
      "Traceback (most recent call last):\n",
      "  File \"/Users/appleplay/anaconda3/envs/swarmauri-0.4.1/lib/python3.10/site-packages/gradio/queueing.py\", line 536, in process_events\n",
      "    response = await route_utils.call_process_api(\n",
      "  File \"/Users/appleplay/anaconda3/envs/swarmauri-0.4.1/lib/python3.10/site-packages/gradio/route_utils.py\", line 321, in call_process_api\n",
      "    output = await app.get_blocks().process_api(\n",
      "  File \"/Users/appleplay/anaconda3/envs/swarmauri-0.4.1/lib/python3.10/site-packages/gradio/blocks.py\", line 1935, in process_api\n",
      "    result = await self.call_function(\n",
      "  File \"/Users/appleplay/anaconda3/envs/swarmauri-0.4.1/lib/python3.10/site-packages/gradio/blocks.py\", line 1518, in call_function\n",
      "    prediction = await fn(*processed_input)\n",
      "  File \"/Users/appleplay/anaconda3/envs/swarmauri-0.4.1/lib/python3.10/site-packages/gradio/utils.py\", line 793, in async_wrapper\n",
      "    response = await f(*args, **kwargs)\n",
      "  File \"/Users/appleplay/anaconda3/envs/swarmauri-0.4.1/lib/python3.10/site-packages/gradio/chat_interface.py\", line 623, in _submit_fn\n",
      "    response = await anyio.to_thread.run_sync(\n",
      "  File \"/Users/appleplay/anaconda3/envs/swarmauri-0.4.1/lib/python3.10/site-packages/anyio/to_thread.py\", line 56, in run_sync\n",
      "    return await get_async_backend().run_sync_in_worker_thread(\n",
      "  File \"/Users/appleplay/anaconda3/envs/swarmauri-0.4.1/lib/python3.10/site-packages/anyio/_backends/_asyncio.py\", line 2177, in run_sync_in_worker_thread\n",
      "    return await future\n",
      "  File \"/Users/appleplay/anaconda3/envs/swarmauri-0.4.1/lib/python3.10/site-packages/anyio/_backends/_asyncio.py\", line 859, in run\n",
      "    result = context.run(func, *args)\n",
      "  File \"/var/folders/8j/5mg1hqbx0rxgbv5q60g_dhhc0000gn/T/ipykernel_1763/488124983.py\", line 16, in converse\n",
      "    print(result. type(result))\n",
      "AttributeError: 'str' object has no attribute 'type'\n"
     ]
    },
    {
     "name": "stdout",
     "output_type": "stream",
     "text": [
      "system_context: a virtual assistant for a universtity student\n",
      "Selected model: llama3-8b-8192\n",
      "[SystemMessage(name=None, id='b36819d3-6c69-445b-9173-e66c26b153d6', members=[], owner=None, host=None, resource='Message', version='0.1.0', type='SystemMessage', content='a virtual assistant for a universtity student', role='system'), HumanMessage(name=None, id='6a3ed01b-9296-41fa-a802-928eb20830f3', members=[], owner=None, host=None, resource='Message', version='0.1.0', type='HumanMessage', content='what is a metal?', role='user'), AgentMessage(name=None, id='fff564bb-a39f-46fd-9fea-c1acd145bcb7', members=[], owner=None, host=None, resource='Message', version='0.1.0', type='AgentMessage', content='A great question to start our conversation!\\n\\nA metal is a type of element that is typically hard, shiny, and has good electrical and thermal conductivity. Metals are found naturally on Earth and are used in a wide range of applications, from construction and transportation to electronics and medicine.\\n\\nSome common characteristics of metals include:\\n\\n1. High electrical conductivity: Metals can conduct electricity well, which makes them useful for wiring and electronics.\\n2. High thermal conductivity: Metals can also conduct heat well, which makes them useful for cooking utensils and heat sinks.\\n3. High tensile strength: Metals are strong and can withstand a lot of stress and pressure.\\n4. Malleability: Metals can be shaped and molded into different forms.\\n5. Ductility: Metals can be stretched and drawn into thin wires or sheets.\\n\\nExamples of metals include:\\n\\n* Iron\\n* Copper\\n* Gold\\n* Silver\\n* Aluminum\\n* Tin\\n* Zinc\\n* Lead\\n* Mercury\\n\\nMetals are also classified into different categories based on their properties, such as:\\n\\n* Ferrous metals: contain iron, like steel and iron\\n* Non-ferrous metals: do not contain iron, like copper and aluminum\\n* Precious metals: rare and valuable, like gold and silver\\n* Base', role='assistant', usage=None)]\n"
     ]
    },
    {
     "name": "stderr",
     "output_type": "stream",
     "text": [
      "Traceback (most recent call last):\n",
      "  File \"/Users/appleplay/anaconda3/envs/swarmauri-0.4.1/lib/python3.10/site-packages/gradio/queueing.py\", line 536, in process_events\n",
      "    response = await route_utils.call_process_api(\n",
      "  File \"/Users/appleplay/anaconda3/envs/swarmauri-0.4.1/lib/python3.10/site-packages/gradio/route_utils.py\", line 321, in call_process_api\n",
      "    output = await app.get_blocks().process_api(\n",
      "  File \"/Users/appleplay/anaconda3/envs/swarmauri-0.4.1/lib/python3.10/site-packages/gradio/blocks.py\", line 1935, in process_api\n",
      "    result = await self.call_function(\n",
      "  File \"/Users/appleplay/anaconda3/envs/swarmauri-0.4.1/lib/python3.10/site-packages/gradio/blocks.py\", line 1518, in call_function\n",
      "    prediction = await fn(*processed_input)\n",
      "  File \"/Users/appleplay/anaconda3/envs/swarmauri-0.4.1/lib/python3.10/site-packages/gradio/utils.py\", line 793, in async_wrapper\n",
      "    response = await f(*args, **kwargs)\n",
      "  File \"/Users/appleplay/anaconda3/envs/swarmauri-0.4.1/lib/python3.10/site-packages/gradio/chat_interface.py\", line 623, in _submit_fn\n",
      "    response = await anyio.to_thread.run_sync(\n",
      "  File \"/Users/appleplay/anaconda3/envs/swarmauri-0.4.1/lib/python3.10/site-packages/anyio/to_thread.py\", line 56, in run_sync\n",
      "    return await get_async_backend().run_sync_in_worker_thread(\n",
      "  File \"/Users/appleplay/anaconda3/envs/swarmauri-0.4.1/lib/python3.10/site-packages/anyio/_backends/_asyncio.py\", line 2177, in run_sync_in_worker_thread\n",
      "    return await future\n",
      "  File \"/Users/appleplay/anaconda3/envs/swarmauri-0.4.1/lib/python3.10/site-packages/anyio/_backends/_asyncio.py\", line 859, in run\n",
      "    result = context.run(func, *args)\n",
      "  File \"/var/folders/8j/5mg1hqbx0rxgbv5q60g_dhhc0000gn/T/ipykernel_1763/488124983.py\", line 16, in converse\n",
      "    print(result. type(result))\n",
      "AttributeError: 'str' object has no attribute 'type'\n"
     ]
    }
   ],
   "source": [
    "def load_model(selected_model):\n",
    "    return GroqModel(api_key=API_KEY, name=selected_model)\n",
    "\n",
    "def converse(input_text, history, system_context, model_name):\n",
    "    print(f\"system_context: {system_context}\")\n",
    "    print(f\"Selected model: {model_name}\")\n",
    "    \n",
    "    llm = load_model(model_name)\n",
    "    \n",
    "    agent = SimpleConversationAgent(llm=llm, conversation=conversation)\n",
    "    agent.conversation.system_context = SystemMessage(content=system_context)\n",
    "    \n",
    "    input_text = str(input_text)\n",
    "    print(conversation.history)\n",
    "    result = agent.exec(input_text)\n",
    "    print(result, type(result))\n",
    "    \n",
    "    return str(result)\n",
    "\n",
    "\n",
    "demo = gr.ChatInterface(\n",
    "    fn=converse,\n",
    "    additional_inputs=[\n",
    "        gr.Textbox(label='System Context'),\n",
    "        gr.Dropdown(label='Model Name', choices=allowed_models, value=allowed_models[0])\n",
    "    ],\n",
    "    title='A sytem context conversation',\n",
    "    description='Interact with the agent using a selected model and system context'\n",
    ")\n",
    "\n",
    "if __name__ == \"__main__\":\n",
    "    demo.launch()"
   ]
  },
  {
   "cell_type": "code",
   "execution_count": null,
   "metadata": {},
   "outputs": [],
   "source": []
  }
 ],
 "metadata": {
  "kernelspec": {
   "display_name": "swarmauri-0.4.1",
   "language": "python",
   "name": "python3"
  },
  "language_info": {
   "codemirror_mode": {
    "name": "ipython",
    "version": 3
   },
   "file_extension": ".py",
   "mimetype": "text/x-python",
   "name": "python",
   "nbconvert_exporter": "python",
   "pygments_lexer": "ipython3",
   "version": "3.10.14"
  }
 },
 "nbformat": 4,
 "nbformat_minor": 2
}
